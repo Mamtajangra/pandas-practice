{
 "cells": [
  {
   "cell_type": "code",
   "execution_count": 19,
   "id": "022727b6",
   "metadata": {},
   "outputs": [],
   "source": [
    "import numpy as np\n",
    "import pandas as pd"
   ]
  },
  {
   "cell_type": "markdown",
   "id": "d0407149",
   "metadata": {},
   "source": [
    "series = one dimensional data"
   ]
  },
  {
   "cell_type": "code",
   "execution_count": 20,
   "id": "57e00caa",
   "metadata": {},
   "outputs": [
    {
     "name": "stdout",
     "output_type": "stream",
     "text": [
      "0    1\n",
      "1    2\n",
      "2    3\n",
      "3    4\n",
      "4    5\n",
      "dtype: int64\n"
     ]
    }
   ],
   "source": [
    "x = np.array([1,2,3,4,5])\n",
    "y = pd.Series(x)\n",
    "print(y)"
   ]
  },
  {
   "cell_type": "code",
   "execution_count": 21,
   "id": "640af8c4",
   "metadata": {},
   "outputs": [
    {
     "name": "stdout",
     "output_type": "stream",
     "text": [
      "c1    1\n",
      "c2    2\n",
      "c3    3\n",
      "c4    4\n",
      "c5    5\n",
      "dtype: int64\n",
      "4\n"
     ]
    }
   ],
   "source": [
    "y = pd.Series(x,index = [\"c1\",\"c2\",\"c3\",\"c4\",\"c5\"])\n",
    "print(y)\n",
    "print(y[\"c4\"])"
   ]
  },
  {
   "cell_type": "code",
   "execution_count": 23,
   "id": "8759c3e6",
   "metadata": {},
   "outputs": [
    {
     "name": "stdout",
     "output_type": "stream",
     "text": [
      "(5,)\n",
      "1\n",
      "5\n"
     ]
    }
   ],
   "source": [
    "print(y.shape)\n",
    "print(y.ndim)\n",
    "print(y.size)\n",
    "# print(y.itemsize)\n"
   ]
  },
  {
   "cell_type": "code",
   "execution_count": 14,
   "metadata": {},
   "outputs": [
    {
     "name": "stdout",
     "output_type": "stream",
     "text": [
      "a    11\n",
      "b    22\n",
      "c    33\n",
      "d    44\n",
      "e    77\n",
      "f    55\n",
      "dtype: int64\n",
      "77\n"
     ]
    }
   ],
   "source": [
    "x = [11,22,33,44,77,55]\n",
    "y = pd.Series(x,index = [\"a\",\"b\",\"c\",\"d\",\"e\",\"f\"])    ## labelling to rows\n",
    "print(y)\n",
    "print(y[\"e\"])"
   ]
  },
  {
   "cell_type": "code",
   "execution_count": 13,
   "id": "7f2083c5",
   "metadata": {},
   "outputs": [
    {
     "name": "stdout",
     "output_type": "stream",
     "text": [
      "44\n"
     ]
    }
   ],
   "source": [
    "\n",
    "y = pd.Series(x)\n",
    "\n",
    "print(y[3])\n"
   ]
  },
  {
   "cell_type": "code",
   "execution_count": null,
   "metadata": {},
   "outputs": [
    {
     "name": "stdout",
     "output_type": "stream",
     "text": [
      "hello    90\n",
      "ram      67\n",
      "yess     89\n",
      "dtype: int64\n"
     ]
    }
   ],
   "source": [
    "x = {\"hello\": 23 ,\"ram\": 67 ,\"yess\": 89,\"hello\": 90}\n",
    "y= pd.Series(x)\n",
    "print(y)                               ##  series by dictionary "
   ]
  },
  {
   "cell_type": "code",
   "execution_count": 16,
   "id": "5f84421f",
   "metadata": {},
   "outputs": [
    {
     "data": {
      "text/plain": [
       "hello    90\n",
       "ram      67\n",
       "dtype: int64"
      ]
     },
     "execution_count": 16,
     "metadata": {},
     "output_type": "execute_result"
    }
   ],
   "source": [
    "y = pd.Series(x,index = [\"hello\",\"ram\"])\n",
    "y"
   ]
  },
  {
   "cell_type": "markdown",
   "id": "819c30fb",
   "metadata": {},
   "source": [
    " Dataframe =  represent data in tables & data in two dimension"
   ]
  },
  {
   "cell_type": "code",
   "execution_count": null,
   "id": "5aae4b50",
   "metadata": {},
   "outputs": [
    {
     "name": "stdout",
     "output_type": "stream",
     "text": [
      "    Name  Age      City\n",
      "0   John   25  New York\n",
      "1  Alice   30    London\n",
      "2    Bob   35     Paris\n"
     ]
    }
   ],
   "source": [
    "data = {'Name': ['John', 'Alice', 'Bob'],'Age': [25, 30, 35],'City': ['New York', 'London', 'Paris']}\n",
    "df = pd.DataFrame(data)\n",
    "print(df)                           ## via dictionary"
   ]
  },
  {
   "cell_type": "code",
   "execution_count": 18,
   "id": "81369b01",
   "metadata": {},
   "outputs": [
    {
     "name": "stdout",
     "output_type": "stream",
     "text": [
      "    Name  age      city\n",
      "0   John   25  New York\n",
      "1  Alice   30    London\n",
      "2    Bob   35     Paris\n"
     ]
    }
   ],
   "source": [
    "data = [['John', 25, 'New York'],['Alice', 30, 'London'],['Bob', 35, 'Paris']]\n",
    "df = pd.DataFrame(data,columns = [\"Name\",\"age\",\"city\"])\n",
    "print(df)"
   ]
  },
  {
   "cell_type": "code",
   "execution_count": null,
   "id": "2e367c2b",
   "metadata": {},
   "outputs": [],
   "source": [
    "df1 = pd.read_csv(\"data.csv\")\n",
    "df2 = pd.read_json(\"data.json\")                 ## file read\n",
    "df1 = pd.read_excel(\"data.excel\")\n",
    "df1 = pd.read_sql(\"data.sql\")\n"
   ]
  },
  {
   "cell_type": "code",
   "execution_count": 22,
   "id": "bf18f3ea",
   "metadata": {},
   "outputs": [
    {
     "name": "stdout",
     "output_type": "stream",
     "text": [
      "Empty DataFrame\n",
      "Columns: []\n",
      "Index: []\n"
     ]
    }
   ],
   "source": [
    "df = pd.DataFrame()\n",
    "print(df)"
   ]
  },
  {
   "cell_type": "code",
   "execution_count": 26,
   "id": "24d4d992",
   "metadata": {},
   "outputs": [
    {
     "name": "stdout",
     "output_type": "stream",
     "text": [
      "(10, 3)\n",
      "30\n",
      "2\n"
     ]
    }
   ],
   "source": [
    "print(df.shape)\n",
    "print(df.size)\n",
    "print(df.ndim)"
   ]
  },
  {
   "cell_type": "markdown",
   "id": "be431069",
   "metadata": {},
   "source": [
    "indexing od dataframe"
   ]
  },
  {
   "cell_type": "code",
   "execution_count": null,
   "id": "f8f513ef",
   "metadata": {},
   "outputs": [
    {
     "name": "stdout",
     "output_type": "stream",
     "text": [
      "    Name  Age      City\n",
      "0   John   25  New York\n",
      "1  Alice   28    London\n",
      "2    Bob   32     Paris\n"
     ]
    }
   ],
   "source": [
    "data = {'Name': ['John', 'Alice', 'Bob'],'Age': [25, 28, 32],'City': ['New York', 'London', 'Paris']}\n",
    "df = pd.DataFrame(data)\n",
    "print(df)"
   ]
  },
  {
   "cell_type": "markdown",
   "id": "d191e7af",
   "metadata": {},
   "source": [
    "set_index"
   ]
  },
  {
   "cell_type": "code",
   "execution_count": 24,
   "id": "bb13349f",
   "metadata": {},
   "outputs": [
    {
     "name": "stdout",
     "output_type": "stream",
     "text": [
      "       Age      City\n",
      "Name                \n",
      "John    25  New York\n",
      "Alice   28    London\n",
      "Bob     32     Paris\n"
     ]
    }
   ],
   "source": [
    "df.set_index(\"Name\",inplace = True)\n",
    "print(df)"
   ]
  },
  {
   "cell_type": "code",
   "execution_count": 8,
   "id": "32e88c7d",
   "metadata": {},
   "outputs": [
    {
     "name": "stdout",
     "output_type": "stream",
     "text": [
      "        Name  Age      City\n",
      "index                      \n",
      "50      John   25  New York\n",
      "51     Alice   28    London\n",
      "52       Bob   32     Paris\n"
     ]
    }
   ],
   "source": [
    "## range_index\n",
    "import pandas as pd\n",
    "data = {'Name': ['John', 'Alice', 'Bob'],'Age': [25, 28, 32],'City': ['New York', 'London', 'Paris']}\n",
    "df = pd.DataFrame(data)\n",
    "df = pd.DataFrame(data, index= pd.RangeIndex(50,53,name = 'index'))\n",
    "print(df)\n"
   ]
  },
  {
   "cell_type": "code",
   "execution_count": 10,
   "id": "ba330587",
   "metadata": {},
   "outputs": [
    {
     "name": "stdout",
     "output_type": "stream",
     "text": [
      "    Name  Age      City\n",
      "0   John   25  New York\n",
      "1  Alice   28    London\n",
      "2    Bob   32     Paris\n",
      "\n",
      "    Name  Age      City\n",
      "A   John   25  New York\n",
      "B  Alice   28    London\n",
      "C    Bob   32     Paris\n"
     ]
    }
   ],
   "source": [
    "## modify index\n",
    "data = {'Name': ['John', 'Alice', 'Bob'],'Age': [25, 28, 32],'City': ['New York', 'London', 'Paris']}\n",
    "df = pd.DataFrame(data)\n",
    "print(df)\n",
    "print()\n",
    "\n",
    "df.rename(index = {0:\"A\",1:\"B\",2:\"C\"},inplace = True)\n",
    "print(df)"
   ]
  },
  {
   "cell_type": "code",
   "execution_count": 13,
   "id": "dd00b962",
   "metadata": {},
   "outputs": [
    {
     "name": "stdout",
     "output_type": "stream",
     "text": [
      "    Name  Age      City\n",
      "0   John   25  New York\n",
      "1  Alice   28    London\n",
      "2    Bob   32     Paris\n",
      "\n",
      "    Name  Age      City\n",
      "A   John   25  New York\n",
      "B  Alice   28    London\n",
      "C    Bob   32     Paris\n",
      "\n",
      "  index   Name  Age      City\n",
      "0     A   John   25  New York\n",
      "1     B  Alice   28    London\n",
      "2     C    Bob   32     Paris\n"
     ]
    }
   ],
   "source": [
    "## resetting index\n",
    "\n",
    "data = {'Name': ['John', 'Alice', 'Bob'],'Age': [25, 28, 32],'City': ['New York', 'London', 'Paris']}\n",
    "df = pd.DataFrame(data)\n",
    "print(df)\n",
    "print()\n",
    "\n",
    "\n",
    "df.rename(index = {0:'A',1:'B',2:'C'},inplace= True)\n",
    "print(df)\n",
    "print()\n",
    "\n",
    "df.reset_index(inplace = True)\n",
    "print(df)"
   ]
  },
  {
   "cell_type": "code",
   "execution_count": null,
   "id": "6e68a3b2",
   "metadata": {},
   "outputs": [
    {
     "name": "stdout",
     "output_type": "stream",
     "text": [
      "    Name  Age      City\n",
      "0   John   25  New York\n",
      "1  Alice   28    London\n",
      "2    Bob   32     Paris\n",
      "\n",
      "Name     Alice\n",
      "Age         28\n",
      "City    London\n",
      "Name: 1, dtype: object\n"
     ]
    }
   ],
   "source": [
    "## access rows by index\n",
    "\n",
    "data = {'Name': ['John', 'Alice', 'Bob'],'Age': [25, 28, 32],'City': ['New York', 'London', 'Paris']}\n",
    "df = pd.DataFrame(data)\n",
    "print(df)\n",
    "print()\n",
    "\n",
    "row = df.iloc[1]\n",
    "print(row)"
   ]
  },
  {
   "cell_type": "code",
   "execution_count": 16,
   "id": "d8a323fd",
   "metadata": {},
   "outputs": [
    {
     "name": "stdout",
     "output_type": "stream",
     "text": [
      "    Name  Age      City\n",
      "0   John   25  New York\n",
      "1  Alice   28    London\n",
      "2    Bob   32     Paris\n",
      "\n",
      "RangeIndex(start=0, stop=3, step=1)\n",
      "\n",
      "[0 1 2]\n"
     ]
    }
   ],
   "source": [
    "## dataframe index\n",
    "\n",
    "data = {'Name': ['John', 'Alice', 'Bob'],'Age': [25, 28, 32],'City': ['New York', 'London', 'Paris']}\n",
    "df = pd.DataFrame(data)\n",
    "print(df)\n",
    "print()\n",
    "\n",
    "print(df.index)\n",
    "print()\n",
    "\n",
    "print(df.index.values)\n",
    "\n"
   ]
  },
  {
   "cell_type": "code",
   "execution_count": 17,
   "id": "19f9db32",
   "metadata": {},
   "outputs": [
    {
     "name": "stdout",
     "output_type": "stream",
     "text": [
      "<IntegerArray>\n",
      "[21, 13, 14, 54, 66, 78, 98, 90]\n",
      "Length: 8, dtype: Int64\n"
     ]
    }
   ],
   "source": [
    "## create array via dataframe\n",
    "\n",
    "data = [21,13,14,54,66,78,98,90]\n",
    "df = pd.array(data)\n",
    "print(df)"
   ]
  },
  {
   "cell_type": "code",
   "execution_count": 1,
   "id": "d0061b90",
   "metadata": {},
   "outputs": [],
   "source": [
    "import pandas as pd"
   ]
  },
  {
   "cell_type": "code",
   "execution_count": 5,
   "id": "0e3f5c29",
   "metadata": {},
   "outputs": [
    {
     "name": "stdout",
     "output_type": "stream",
     "text": [
      "<NumpyExtensionArray>\n",
      "[np.int64(2), np.int64(5), np.int64(3), np.int64(6), np.int64(9)]\n",
      "Length: 5, dtype: int64\n",
      "<IntegerArray>\n",
      "[2, 5, 3, 6, 9]\n",
      "Length: 5, dtype: Int64\n"
     ]
    }
   ],
   "source": [
    "## specify array elements\n",
    "data1 = pd.array([2,5,3,6,9],dtype = 'int')\n",
    "data = pd.array([2,5,3,6,9])\n",
    "print(data1)\n",
    "print(data)"
   ]
  },
  {
   "cell_type": "code",
   "execution_count": 6,
   "id": "6eecc772",
   "metadata": {},
   "outputs": [
    {
     "name": "stdout",
     "output_type": "stream",
     "text": [
      "<FloatingArray>\n",
      "[2.3, 4.6, 8.5, 9.0]\n",
      "Length: 4, dtype: Float64\n"
     ]
    }
   ],
   "source": [
    "data = pd.array([2.3,4.6,8.5,9.00])\n",
    "print(data)"
   ]
  },
  {
   "cell_type": "code",
   "execution_count": 7,
   "id": "9d5d86c4",
   "metadata": {},
   "outputs": [
    {
     "name": "stdout",
     "output_type": "stream",
     "text": [
      "<StringArray>\n",
      "['mango', 'papaya', 'cherry', 'kiwi']\n",
      "Length: 4, dtype: string\n"
     ]
    }
   ],
   "source": [
    "data = pd.array([\"mango\",\"papaya\",\"cherry\",\"kiwi\"])\n",
    "print(data)"
   ]
  },
  {
   "cell_type": "code",
   "execution_count": 9,
   "id": "63b38af7",
   "metadata": {},
   "outputs": [
    {
     "name": "stdout",
     "output_type": "stream",
     "text": [
      "<NumpyExtensionArray>\n",
      "[np.complex128(2+3j), np.complex128(4+2j)]\n",
      "Length: 2, dtype: complex128\n"
     ]
    }
   ],
   "source": [
    "data = pd.array([2+3j,4+2j])\n",
    "print(data)"
   ]
  },
  {
   "cell_type": "code",
   "execution_count": 10,
   "id": "ff16727c",
   "metadata": {},
   "outputs": [
    {
     "name": "stdout",
     "output_type": "stream",
     "text": [
      "<BooleanArray>\n",
      "[True, False, False, True]\n",
      "Length: 4, dtype: boolean\n"
     ]
    }
   ],
   "source": [
    "data = pd.array([True,False,False,True])\n",
    "print(data)"
   ]
  },
  {
   "cell_type": "code",
   "execution_count": 11,
   "id": "30d4e742",
   "metadata": {},
   "outputs": [
    {
     "name": "stdout",
     "output_type": "stream",
     "text": [
      "0    23\n",
      "1    43\n",
      "2    66\n",
      "3    89\n",
      "4    60\n",
      "dtype: Int64\n"
     ]
    }
   ],
   "source": [
    "## series from pandas\n",
    "data = pd.array([23,43,66,89,60])\n",
    "ser = pd.Series(data)\n",
    "print(ser)"
   ]
  },
  {
   "cell_type": "code",
   "execution_count": 13,
   "id": "1a2650f9",
   "metadata": {},
   "outputs": [
    {
     "name": "stdout",
     "output_type": "stream",
     "text": [
      "    Name  Age      City\n",
      "0   John   25  New York\n",
      "1  Alice   30     Paris\n",
      "2    Bob   35    London\n",
      "3   Emma   28    Sydney\n",
      "4   Mike   32     Tokyo\n",
      "5  Sarah   27    Berlin\n",
      "6  David   40      Rome\n",
      "7  Linda   33    Madrid\n",
      "8    Tom   29   Toronto\n",
      "9  Emily   31    Moscow\n"
     ]
    }
   ],
   "source": [
    "## dataframe analysis\n",
    "data = {'Name': ['John', 'Alice', 'Bob', 'Emma', 'Mike', 'Sarah', 'David', 'Linda', 'Tom', 'Emily'],\n",
    "        'Age': [25, 30, 35, 28, 32, 27, 40, 33, 29, 31],\n",
    "        'City': ['New York', 'Paris', 'London', 'Sydney', 'Tokyo', 'Berlin', 'Rome', 'Madrid', 'Toronto', 'Moscow']}\n",
    "\n",
    "df = pd.DataFrame(data)\n",
    "print(df)"
   ]
  },
  {
   "cell_type": "code",
   "execution_count": 15,
   "id": "73d69b25",
   "metadata": {},
   "outputs": [
    {
     "name": "stdout",
     "output_type": "stream",
     "text": [
      "    Name  Age      City\n",
      "0   John   25  New York\n",
      "1  Alice   30     Paris\n",
      "2    Bob   35    London\n",
      "3   Emma   28    Sydney\n",
      "4   Mike   32     Tokyo\n",
      "\n",
      "    Name  Age     City\n",
      "5  Sarah   27   Berlin\n",
      "6  David   40     Rome\n",
      "7  Linda   33   Madrid\n",
      "8    Tom   29  Toronto\n",
      "9  Emily   31   Moscow\n",
      "\n",
      "    Name  Age      City\n",
      "0   John   25  New York\n",
      "1  Alice   30     Paris\n",
      "2    Bob   35    London\n"
     ]
    }
   ],
   "source": [
    "print(df.head())\n",
    "print()\n",
    "print(df.tail())\n",
    "print()\n",
    "print(df.head(3))"
   ]
  },
  {
   "cell_type": "code",
   "execution_count": 16,
   "id": "501c371d",
   "metadata": {},
   "outputs": [
    {
     "name": "stdout",
     "output_type": "stream",
     "text": [
      "<class 'pandas.core.frame.DataFrame'>\n",
      "RangeIndex: 10 entries, 0 to 9\n",
      "Data columns (total 3 columns):\n",
      " #   Column  Non-Null Count  Dtype \n",
      "---  ------  --------------  ----- \n",
      " 0   Name    10 non-null     object\n",
      " 1   Age     10 non-null     int64 \n",
      " 2   City    10 non-null     object\n",
      "dtypes: int64(1), object(2)\n",
      "memory usage: 372.0+ bytes\n",
      "None\n"
     ]
    }
   ],
   "source": [
    "print(df.info())"
   ]
  },
  {
   "cell_type": "code",
   "execution_count": 27,
   "id": "a8cea682",
   "metadata": {},
   "outputs": [
    {
     "name": "stdout",
     "output_type": "stream",
     "text": [
      "      Name  Height Qualification\n",
      "0     John     5.5           BSc\n",
      "1     Emma     6.0           BBA\n",
      "2  Michael     5.8           MBA\n",
      "3   Sophia     5.3           BSc\n"
     ]
    }
   ],
   "source": [
    "## adding rows columns\n",
    "\n",
    "data = {'Name': ['John', 'Emma', 'Michael', 'Sophia'],\n",
    "        'Height': [5.5, 6.0, 5.8, 5.3],\n",
    "        'Qualification': ['BSc', 'BBA', 'MBA', 'BSc']}\n",
    "df = pd.DataFrame(data)\n",
    "print(df)\n"
   ]
  },
  {
   "cell_type": "code",
   "execution_count": null,
   "id": "a74992e1",
   "metadata": {},
   "outputs": [
    {
     "name": "stdout",
     "output_type": "stream",
     "text": [
      "      Name  Height Qualification     city\n",
      "0     John     5.5           BSc  bermuda\n",
      "1     Emma     6.0           BBA     fiji\n",
      "2  Michael     5.8           MBA  vietnam\n",
      "3   Sophia     5.3           BSc    paris\n"
     ]
    }
   ],
   "source": [
    "city = [\"bermuda\",\"fiji\",\"vietnam\",\"paris\"]           ## add column\n",
    "df['city'] = city\n",
    "print(df)"
   ]
  },
  {
   "cell_type": "code",
   "execution_count": null,
   "id": "e3ff9877",
   "metadata": {},
   "outputs": [
    {
     "name": "stdout",
     "output_type": "stream",
     "text": [
      "      Name  Height Qualification     city\n",
      "0     John     5.5           BSc  bermuda\n",
      "1     Emma     6.0           BBA     fiji\n",
      "2  Michael     5.8           MBA  vietnam\n",
      "3   Sophia     5.3           BSc    paris\n",
      "4     elis     5.9           Msc    kochi\n"
     ]
    }
   ],
   "source": [
    "df.loc[len(df.index)] = [\"elis\",5.9,\"Msc\",\"kochi\"]             ## add row\n",
    "print(df)"
   ]
  },
  {
   "cell_type": "code",
   "execution_count": null,
   "id": "4c0b50a7",
   "metadata": {},
   "outputs": [
    {
     "name": "stdout",
     "output_type": "stream",
     "text": [
      "      Name  Height Qualification\n",
      "0     John     5.5           BSc\n",
      "1     Emma     6.0           BBA\n",
      "2  Michael     5.8           MBA\n",
      "3   Sophia     5.3           BSc\n",
      "\n",
      "\n",
      "   Height Qualification\n",
      "0     5.5           BSc\n",
      "1     6.0           BBA\n",
      "2     5.8           MBA\n",
      "3     5.3           BSc\n"
     ]
    }
   ],
   "source": [
    "## delete column\n",
    "data = {'Name': ['John', 'Emma', 'Michael', 'Sophia'],\n",
    "        'Height': [5.5, 6.0, 5.8, 5.3],\n",
    "        'Qualification': ['BSc', 'BBA', 'MBA', 'BSc']}\n",
    "df = pd.DataFrame(data)\n",
    "print(df)\n",
    "print()\n",
    "print(df.drop(columns = [\"Height\",\"Name\"]))\n",
    "print()\n",
    "print(df.drop(\"Name\",axis = 1))"
   ]
  },
  {
   "cell_type": "code",
   "execution_count": 47,
   "id": "009e2bd2",
   "metadata": {},
   "outputs": [
    {
     "name": "stdout",
     "output_type": "stream",
     "text": [
      "      Name  Height Qualification\n",
      "0     John     5.5           BSc\n",
      "1     Emma     6.0           BBA\n",
      "2  Michael     5.8           MBA\n",
      "3   Sophia     5.3           BSc\n"
     ]
    }
   ],
   "source": [
    "## row deletion\n",
    "data = {'Name': ['John', 'Emma', 'Michael', 'Sophia'],\n",
    "        'Height': [5.5, 6.0, 5.8, 5.3],\n",
    "        'Qualification': ['BSc', 'BBA', 'MBA', 'BSc']}\n",
    "df = pd.DataFrame(data)\n",
    "print(df)"
   ]
  },
  {
   "cell_type": "code",
   "execution_count": 48,
   "id": "1946555a",
   "metadata": {},
   "outputs": [
    {
     "name": "stdout",
     "output_type": "stream",
     "text": [
      "      Name  Height Qualification\n",
      "0     John     5.5           BSc\n",
      "1     Emma     6.0           BBA\n",
      "2  Michael     5.8           MBA\n"
     ]
    }
   ],
   "source": [
    "df = df.drop(3,axis = 0)\n",
    "print(df)\n"
   ]
  },
  {
   "cell_type": "code",
   "execution_count": 49,
   "id": "85b6a3f6",
   "metadata": {},
   "outputs": [
    {
     "name": "stdout",
     "output_type": "stream",
     "text": [
      "      Name  Height Qualification\n",
      "0     John     5.5           BSc\n",
      "1     Emma     6.0           BBA\n",
      "2  Michael     5.8           MBA\n",
      "3   Sophia     5.3           BSc\n"
     ]
    }
   ],
   "source": [
    "data = {'Name': ['John', 'Emma', 'Michael', 'Sophia'],\n",
    "        'Height': [5.5, 6.0, 5.8, 5.3],\n",
    "        'Qualification': ['BSc', 'BBA', 'MBA', 'BSc']}\n",
    "df = pd.DataFrame(data)\n",
    "print(df)"
   ]
  },
  {
   "cell_type": "code",
   "execution_count": 50,
   "id": "8fc60b8a",
   "metadata": {},
   "outputs": [
    {
     "name": "stdout",
     "output_type": "stream",
     "text": [
      "  First_name  Height Qualification\n",
      "0       John     5.5           BSc\n",
      "1       Emma     6.0           BBA\n",
      "2    Michael     5.8           MBA\n",
      "3     Sophia     5.3           BSc\n"
     ]
    }
   ],
   "source": [
    "print(df.rename(columns = {\"Name\":\"First_name\"}))"
   ]
  },
  {
   "cell_type": "code",
   "execution_count": 53,
   "id": "be64f5f0",
   "metadata": {},
   "outputs": [
    {
     "name": "stdout",
     "output_type": "stream",
     "text": [
      "      Name  number Course\n",
      "0     John     5.5    BSc\n",
      "1     Emma     6.0    BBA\n",
      "2  Michael     5.8    MBA\n",
      "3   Sophia     5.3    BSc\n"
     ]
    }
   ],
   "source": [
    "print(df.rename(mapper= {\"Height\":\"number\",\"Qualification\":\"Course\"},axis = 1))"
   ]
  },
  {
   "cell_type": "code",
   "execution_count": null,
   "id": "7aa302f1",
   "metadata": {},
   "outputs": [
    {
     "name": "stdout",
     "output_type": "stream",
     "text": [
      "      Name  Age      City\n",
      "0    Alice   25  New York\n",
      "1      Bob   30    London\n",
      "2  Charlie   35     Paris\n",
      "3    David   40     Tokyo\n"
     ]
    }
   ],
   "source": [
    "## row rename\n",
    "data = {'Name': ['Alice', 'Bob', 'Charlie', 'David'],\n",
    "        'Age': [25, 30, 35, 40],\n",
    "        'City': ['New York', 'London', 'Paris', 'Tokyo']}\n",
    "df = pd.DataFrame(data)\n",
    "print(df)\n",
    "                 ## query\n",
    "                 \n"
   ]
  },
  {
   "cell_type": "code",
   "execution_count": 56,
   "id": "1127690f",
   "metadata": {},
   "outputs": [
    {
     "name": "stdout",
     "output_type": "stream",
     "text": [
      "      Name  Age      City\n",
      "0    Alice   25  New York\n",
      "1      Bob   32     Paris\n",
      "2  Charlie   18    London\n",
      "3    David   47     Tokyo\n",
      "4      Eve   33    Sydney\n"
     ]
    }
   ],
   "source": [
    "## indexing and slicing\n",
    "data = {\n",
    "    'Name': ['Alice', 'Bob', 'Charlie', 'David', 'Eve'],\n",
    "    'Age': [25, 32, 18, 47, 33],\n",
    "    'City': ['New York', 'Paris', 'London', 'Tokyo', 'Sydney']\n",
    "}\n",
    "df = pd.DataFrame(data)\n",
    "print(df)\n",
    "\n"
   ]
  },
  {
   "cell_type": "code",
   "execution_count": 62,
   "id": "be6bb719",
   "metadata": {},
   "outputs": [
    {
     "name": "stdout",
     "output_type": "stream",
     "text": [
      "0    25\n",
      "1    32\n",
      "2    18\n",
      "3    47\n",
      "4    33\n",
      "Name: Age, dtype: int64\n",
      "\n",
      "18\n",
      "\n",
      "   Age      City\n",
      "0   25  New York\n",
      "1   32     Paris\n",
      "2   18    London\n",
      "3   47     Tokyo\n",
      "4   33    Sydney\n"
     ]
    }
   ],
   "source": [
    "print(df[\"Age\"])\n",
    "print()\n",
    "print(df[\"Age\"][2])\n",
    "print()\n",
    "print(df[[\"Age\",\"City\"]])"
   ]
  },
  {
   "cell_type": "code",
   "execution_count": 71,
   "id": "fc150040",
   "metadata": {},
   "outputs": [
    {
     "name": "stdout",
     "output_type": "stream",
     "text": [
      "      Name  Age      City\n",
      "0    Alice   25  New York\n",
      "1      Bob   32     Paris\n",
      "2  Charlie   18    London\n",
      "3    David   47     Tokyo\n",
      "4      Eve   33    Sydney\n",
      "\n",
      "Name    David\n",
      "Age        47\n",
      "City    Tokyo\n",
      "Name: 3, dtype: object\n",
      "      Name  Age      City\n",
      "0    Alice   25  New York\n",
      "1      Bob   32     Paris\n",
      "2  Charlie   18    London\n",
      "3    David   47     Tokyo\n",
      "\n",
      "0    New York\n",
      "1       Paris\n",
      "2      London\n",
      "3       Tokyo\n",
      "4      Sydney\n",
      "Name: City, dtype: object\n",
      "\n",
      "Name      Bob\n",
      "Age        32\n",
      "City    Paris\n",
      "Name: 1, dtype: object\n"
     ]
    }
   ],
   "source": [
    "## indexing via  loc and iloc\n",
    "data = {\n",
    "    'Name': ['Alice', 'Bob', 'Charlie', 'David', 'Eve'],\n",
    "    'Age': [25, 32, 18, 47, 33],\n",
    "    'City': ['New York', 'Paris', 'London', 'Tokyo', 'Sydney']\n",
    "}\n",
    "df = pd.DataFrame(data)\n",
    "print(df)\n",
    "print()\n",
    "print(df.loc[3])\n",
    "print(df.loc[0:3])\n",
    "print()\n",
    "print(df.loc[:,\"City\"])\n",
    "print()\n",
    "print(df.loc[1,\"Name\":\"City\"])"
   ]
  },
  {
   "cell_type": "code",
   "execution_count": 72,
   "id": "7f6329a5",
   "metadata": {},
   "outputs": [
    {
     "name": "stdout",
     "output_type": "stream",
     "text": [
      "      Name  Age      City\n",
      "0    Alice   25  New York\n",
      "1      Bob   32     Paris\n",
      "2  Charlie   18    London\n",
      "3    David   47     Tokyo\n",
      "4      Eve   33    Sydney\n"
     ]
    }
   ],
   "source": [
    "data = {\n",
    "    'Name': ['Alice', 'Bob', 'Charlie', 'David', 'Eve'],\n",
    "    'Age': [25, 32, 18, 47, 33],\n",
    "    'City': ['New York', 'Paris', 'London', 'Tokyo', 'Sydney']\n",
    "}\n",
    "df = pd.DataFrame(data)\n",
    "print(df)"
   ]
  },
  {
   "cell_type": "code",
   "execution_count": null,
   "id": "e31cf3bf",
   "metadata": {},
   "outputs": [
    {
     "name": "stdout",
     "output_type": "stream",
     "text": [
      "    Name  Age   City\n",
      "3  David   47  Tokyo\n"
     ]
    }
   ],
   "source": [
    "print(df.loc[df[\"Age\"]>40])        ## boolean indexing"
   ]
  },
  {
   "cell_type": "markdown",
   "id": "020fdf4d",
   "metadata": {},
   "source": [
    "## loc (label-based indexing)\n",
    " Rows/columns ko naam (label) se select karta hai.\n",
    "Example: df.loc[2, \"Name\"] → index label 2 aur column \"Name\" ka value.\n",
    "\n",
    "## iloc (integer-based indexing)\n",
    " Rows/columns ko position (number) se select karta hai.\n",
    "Example: df.iloc[2, 1] → 3rd row aur 2nd column ka value.\n",
    "\n",
    "    \n",
    "## Indexing\n",
    "loc ==\tLabel-based indexing\n",
    "iloc ==\tInteger-based indexing\n",
    "\n",
    "\n",
    "## Endpoint\n",
    "loc ==\tEndpoint is included\n",
    "iloc ==\tEndpoint is not included\n",
    "\n",
    "\n",
    "## Boolean indexing\n",
    "loc ==\tBoolean indexing is supported\n",
    "iloc ==\tBoolean indexing is not supported"
   ]
  },
  {
   "cell_type": "code",
   "execution_count": 74,
   "id": "f125f849",
   "metadata": {},
   "outputs": [
    {
     "name": "stdout",
     "output_type": "stream",
     "text": [
      "      Name  Age      City\n",
      "0    Alice   25  New York\n",
      "1      Bob   32     Paris\n",
      "2  Charlie   18    London\n",
      "3    David   47     Tokyo\n",
      "4      Eve   33    Sydney\n"
     ]
    }
   ],
   "source": [
    "data = {\n",
    "    'Name': ['Alice', 'Bob', 'Charlie', 'David', 'Eve'],\n",
    "    'Age': [25, 32, 18, 47, 33],\n",
    "    'City': ['New York', 'Paris', 'London', 'Tokyo', 'Sydney']\n",
    "}\n",
    "df = pd.DataFrame(data)\n",
    "print(df)"
   ]
  },
  {
   "cell_type": "code",
   "execution_count": 75,
   "id": "3b856a51",
   "metadata": {},
   "outputs": [
    {
     "name": "stdout",
     "output_type": "stream",
     "text": [
      "Name    Charlie\n",
      "Age          18\n",
      "City     London\n",
      "Name: 2, dtype: object\n"
     ]
    }
   ],
   "source": [
    "print(df.iloc[2])"
   ]
  },
  {
   "cell_type": "code",
   "execution_count": 78,
   "id": "26b9aff0",
   "metadata": {},
   "outputs": [
    {
     "name": "stdout",
     "output_type": "stream",
     "text": [
      "      Name\n",
      "0    Alice\n",
      "1      Bob\n",
      "2  Charlie\n",
      "    Name  Age\n",
      "0  Alice   25\n"
     ]
    }
   ],
   "source": [
    "print(df.iloc[0:3,0:1])\n",
    "print(df.iloc[:1,:2])"
   ]
  },
  {
   "cell_type": "code",
   "execution_count": 79,
   "id": "cb178e62",
   "metadata": {},
   "outputs": [
    {
     "name": "stdout",
     "output_type": "stream",
     "text": [
      "      Name  Age  Salary\n",
      "0    Alice   25   50000\n",
      "1      Bob   30   60000\n",
      "2  Charlie   22   45000\n",
      "3    David   27   55000\n",
      "4      Eve   29   52000\n"
     ]
    }
   ],
   "source": [
    "data = {\n",
    "    'Name': ['Alice', 'Bob', 'Charlie', 'David', 'Eve'],\n",
    "    'Age': [25, 30, 22, 27, 29],\n",
    "    'Salary': [50000, 60000, 45000, 55000, 52000]\n",
    "}\n",
    "\n",
    "df = pd.DataFrame(data)\n",
    "print(df)"
   ]
  },
  {
   "cell_type": "code",
   "execution_count": 87,
   "id": "dad11a3a",
   "metadata": {},
   "outputs": [
    {
     "name": "stdout",
     "output_type": "stream",
     "text": [
      "   Age  Salary\n",
      "0   25   50000\n",
      "1   30   60000\n",
      "2   22   45000\n",
      "3   27   55000\n",
      "4   29   52000\n",
      "\n",
      "      Name  Age  Salary\n",
      "1      Bob   30   60000\n",
      "2  Charlie   22   45000\n",
      "3    David   27   55000\n",
      "\n",
      "      Name  Age\n",
      "1      Bob   30\n",
      "2  Charlie   22\n",
      "\n"
     ]
    }
   ],
   "source": [
    "print(df[[\"Age\",\"Salary\"]])\n",
    "print()\n",
    "print(df[1:4])\n",
    "print()\n",
    "print(df.iloc[1:3,0:2])\n",
    "print()"
   ]
  },
  {
   "cell_type": "code",
   "execution_count": 88,
   "id": "38cc4eac",
   "metadata": {},
   "outputs": [
    {
     "name": "stdout",
     "output_type": "stream",
     "text": [
      "      Name  Age  Gender\n",
      "0    Alice   25  Female\n",
      "1      Bob   30    Male\n",
      "2  Charlie   22    Male\n",
      "3    David   28    Male\n",
      "4    Emily   24  Female\n"
     ]
    }
   ],
   "source": [
    "data = {\n",
    "    'Name': ['Alice', 'Bob', 'Charlie', 'David', 'Emily'],\n",
    "    'Age': [25, 30, 22, 28, 24],\n",
    "    'Gender': ['Female', 'Male', 'Male', 'Male', 'Female']\n",
    "}\n",
    "\n",
    "df = pd.DataFrame(data)\n",
    "print(df)\n"
   ]
  },
  {
   "cell_type": "code",
   "execution_count": 93,
   "id": "b208f1e1",
   "metadata": {},
   "outputs": [
    {
     "name": "stdout",
     "output_type": "stream",
     "text": [
      "    Name  Age  Gender\n",
      "0  Alice   25  Female\n",
      "1    Bob   30    Male\n",
      "3  David   28    Male\n",
      "4  Emily   24  Female\n"
     ]
    }
   ],
   "source": [
    "print(df[df[\"Age\"]>23])"
   ]
  },
  {
   "cell_type": "code",
   "execution_count": 94,
   "id": "d418c393",
   "metadata": {},
   "outputs": [
    {
     "name": "stdout",
     "output_type": "stream",
     "text": [
      "      Name  Age  Gender\n",
      "0    Alice   25  Female\n",
      "1      Bob   30    Male\n",
      "2  Charlie   22    Male\n",
      "3    David   28    Male\n",
      "4    Emily   24  Female\n"
     ]
    }
   ],
   "source": [
    "## query\n",
    "print(df.query(\"Age>20\"))"
   ]
  },
  {
   "cell_type": "code",
   "execution_count": 95,
   "id": "c1601ed5",
   "metadata": {},
   "outputs": [
    {
     "name": "stdout",
     "output_type": "stream",
     "text": [
      "      Name  Age  Gender\n",
      "2  Charlie   22    Male\n",
      "4    Emily   24  Female\n",
      "0    Alice   25  Female\n",
      "3    David   28    Male\n",
      "1      Bob   30    Male\n"
     ]
    }
   ],
   "source": [
    "print(df.sort_values(\"Age\"))"
   ]
  },
  {
   "cell_type": "code",
   "execution_count": 97,
   "id": "c9677583",
   "metadata": {},
   "outputs": [
    {
     "name": "stdout",
     "output_type": "stream",
     "text": [
      "         Date  Category_A  Category_B\n",
      "0  2023-08-01          10          30\n",
      "1  2023-08-02          20          40\n"
     ]
    }
   ],
   "source": [
    "data = {'Date': ['2023-08-01', '2023-08-02'],\n",
    "        'Category_A': [10, 20],\n",
    "        'Category_B': [30, 40]}\n",
    "df = pd.DataFrame(data)\n",
    "print(df)"
   ]
  },
  {
   "cell_type": "code",
   "execution_count": 98,
   "id": "5d7b8960",
   "metadata": {},
   "outputs": [
    {
     "name": "stdout",
     "output_type": "stream",
     "text": [
      "            Category_A  Category_B\n",
      "Date                              \n",
      "2023-08-01          10          30\n",
      "2023-08-02          20          40\n"
     ]
    }
   ],
   "source": [
    "df.set_index(\"Date\",inplace = True)\n",
    "print(df)"
   ]
  },
  {
   "cell_type": "code",
   "execution_count": 100,
   "id": "133c9e4f",
   "metadata": {},
   "outputs": [
    {
     "name": "stdout",
     "output_type": "stream",
     "text": [
      "Date                  \n",
      "2023-08-01  Category_A    10\n",
      "            Category_B    30\n",
      "2023-08-02  Category_A    20\n",
      "            Category_B    40\n",
      "dtype: int64\n"
     ]
    }
   ],
   "source": [
    "df = df.stack()\n",
    "print(df)"
   ]
  },
  {
   "cell_type": "code",
   "execution_count": 101,
   "id": "8dbfc528",
   "metadata": {},
   "outputs": [
    {
     "name": "stdout",
     "output_type": "stream",
     "text": [
      "            Category_A  Category_B\n",
      "Date                              \n",
      "2023-08-01          10          30\n",
      "2023-08-02          20          40\n"
     ]
    }
   ],
   "source": [
    "df = df.unstack()\n",
    "print(df)"
   ]
  },
  {
   "cell_type": "code",
   "execution_count": 102,
   "id": "aa76c665",
   "metadata": {},
   "outputs": [
    {
     "name": "stdout",
     "output_type": "stream",
     "text": [
      "   Name  Age         City\n",
      "0  John   28     New York\n",
      "1  Anna   24  Los Angeles\n",
      "2  John   28     New York\n",
      "3  Anna   24  Los Angeles\n",
      "4  John   19      Chicago\n"
     ]
    }
   ],
   "source": [
    "## duplicate\n",
    "data = {\n",
    "    'Name': ['John', 'Anna', 'John', 'Anna', 'John'],\n",
    "    'Age': [28, 24, 28, 24, 19],\n",
    "    'City': ['New York', 'Los Angeles', 'New York', 'Los Angeles', 'Chicago']\n",
    "}\n",
    "df = pd.DataFrame(data)\n",
    "print(df)\n"
   ]
  },
  {
   "cell_type": "code",
   "execution_count": 103,
   "id": "867c7245",
   "metadata": {},
   "outputs": [
    {
     "name": "stdout",
     "output_type": "stream",
     "text": [
      "0    False\n",
      "1    False\n",
      "2     True\n",
      "3     True\n",
      "4    False\n",
      "dtype: bool\n"
     ]
    }
   ],
   "source": [
    "print(df.duplicated())"
   ]
  },
  {
   "cell_type": "code",
   "execution_count": 109,
   "id": "776cc767",
   "metadata": {},
   "outputs": [
    {
     "name": "stdout",
     "output_type": "stream",
     "text": [
      "   Name  Age         City\n",
      "0  John   28     New York\n",
      "1  Anna   24  Los Angeles\n",
      "4  John   19      Chicago\n"
     ]
    }
   ],
   "source": [
    "data = {\n",
    "    'Name': ['John', 'Anna', 'John', 'Anna', 'John'],\n",
    "    'Age': [28, 24, 28, 24, 19],\n",
    "    'City': ['New York', 'Los Angeles', 'New York', 'Los Angeles', 'Chicago']\n",
    "}\n",
    "df = pd.DataFrame(data)\n",
    "df.drop_duplicates(inplace = True)\n",
    "print(df)"
   ]
  },
  {
   "cell_type": "code",
   "execution_count": 105,
   "id": "bb847805",
   "metadata": {},
   "outputs": [
    {
     "name": "stdout",
     "output_type": "stream",
     "text": [
      "0    False\n",
      "1    False\n",
      "2     True\n",
      "3     True\n",
      "4    False\n",
      "dtype: bool\n"
     ]
    }
   ],
   "source": [
    "## in column duplicate\n",
    "print(df.duplicated(subset = [\"Name\",\"Age\"]))"
   ]
  },
  {
   "cell_type": "code",
   "execution_count": 110,
   "id": "23be3b4f",
   "metadata": {},
   "outputs": [
    {
     "name": "stdout",
     "output_type": "stream",
     "text": [
      "   Name  Age         City\n",
      "0  John   28     New York\n",
      "1  Anna   24  Los Angeles\n",
      "4  John   19      Chicago\n"
     ]
    }
   ],
   "source": [
    "df.drop_duplicates(keep = \"last\",inplace = True)\n",
    "print(df)"
   ]
  },
  {
   "cell_type": "code",
   "execution_count": 112,
   "id": "d239ddc0",
   "metadata": {},
   "outputs": [
    {
     "data": {
      "image/png": "[encoded data removed]",
      "text/plain": [
       "<Figure size 640x480 with 1 Axes>"
      ]
     },
     "metadata": {},
     "output_type": "display_data"
    }
   ],
   "source": [
    "## visualization\n",
    "import matplotlib.pyplot as plt\n",
    "\n",
    "car = [\"Caterham\", \"Tesla\", \"Audi\", \"BMW\", \"Ford\", \"Jeep\"]\n",
    "weight = [0.48, 1.7, 2, 2, 2.3, 3]\n",
    "\n",
    "data = {\"car\":car,\"weight\": weight}\n",
    "df = pd.DataFrame(data)\n",
    "\n",
    "df.plot(x = \"car\",y = \"weight\",kind = \"line\",marker = \"o\")\n",
    "plt.xlabel(\"car\")\n",
    "plt.ylabel(\"weight\")\n",
    "plt.title(\"car weight\")\n",
    "plt.show()\n",
    "\n"
   ]
  },
  {
   "cell_type": "code",
   "execution_count": 114,
   "id": "781a929e",
   "metadata": {},
   "outputs": [
    {
     "data": {
      "image/png": "[encoded data removed]",
      "text/plain": [
       "<Figure size 640x480 with 1 Axes>"
      ]
     },
     "metadata": {},
     "output_type": "display_data"
    }
   ],
   "source": [
    "df.plot(x = \"car\",y= \"weight\",kind = \"scatter\",marker = \"o\")\n",
    "plt.title(\"car weight\")\n",
    "plt.xlabel(\"car\")\n",
    "plt.ylabel(\"weight\")\n",
    "plt.grid(True)\n",
    "plt.show()"
   ]
  },
  {
   "cell_type": "code",
   "execution_count": 116,
   "id": "d920f89a",
   "metadata": {},
   "outputs": [
    {
     "data": {
      "image/png": "[encoded data removed]",
      "text/plain": [
       "<Figure size 640x480 with 1 Axes>"
      ]
     },
     "metadata": {},
     "output_type": "display_data"
    }
   ],
   "source": [
    "df.plot(x='car', y='weight', kind='bar', color='green')\n",
    "plt.xlabel('car')\n",
    "plt.ylabel('weight')\n",
    "plt.title(\"Car Weights\")\n",
    "plt.show()\n"
   ]
  },
  {
   "cell_type": "code",
   "execution_count": 117,
   "id": "6aa9cd92",
   "metadata": {},
   "outputs": [
    {
     "data": {
      "image/png": "[encoded data removed]",
      "text/plain": [
       "<Figure size 640x480 with 1 Axes>"
      ]
     },
     "metadata": {},
     "output_type": "display_data"
    }
   ],
   "source": [
    "data = {'values': [18, 21, 22, 25, 28, 30, 32, 34, 35, 36, 38, 40, 42, 45, 50, 55, 60, 65, 70]}\n",
    "df = pd.DataFrame(data)\n",
    "plt.hist(df[\"values\"],bins = 12)\n",
    "plt.show()"
   ]
  },
  {
   "cell_type": "code",
   "execution_count": null,
   "id": "3442e2c9",
   "metadata": {},
   "outputs": [],
   "source": []
  },
  {
   "cell_type": "code",
   "execution_count": null,
   "id": "f492b339",
   "metadata": {},
   "outputs": [],
   "source": []
  }
 ],
 "metadata": {
  "kernelspec": {
   "display_name": "Python 3",
   "language": "python",
   "name": "python3"
  },
  "language_info": {
   "codemirror_mode": {
    "name": "ipython",
    "version": 3
   },
   "file_extension": ".py",
   "mimetype": "text/x-python",
   "name": "python",
   "nbconvert_exporter": "python",
   "pygments_lexer": "ipython3",
   "version": "3.12.0"
  }
 },
 "nbformat": 4,
 "nbformat_minor": 5
}
